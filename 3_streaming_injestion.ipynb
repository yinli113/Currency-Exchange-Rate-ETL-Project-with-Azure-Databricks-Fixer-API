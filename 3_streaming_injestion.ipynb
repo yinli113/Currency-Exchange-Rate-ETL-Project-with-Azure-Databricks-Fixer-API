{
 "cells": [
  {
   "cell_type": "code",
   "execution_count": 0,
   "metadata": {
    "application/vnd.databricks.v1+cell": {
     "cellMetadata": {
      "byteLimit": 2048000,
      "rowLimit": 10000
     },
     "inputWidgets": {},
     "nuid": "b4a5fabe-ebcd-4328-9046-8b8e8f94e64e",
     "showTitle": false,
     "tableResultSettingsMap": {},
     "title": ""
    }
   },
   "outputs": [],
   "source": [
    "dbutils.widgets.text(\"api_key\", \"\")"
   ]
  },
  {
   "cell_type": "code",
   "execution_count": 0,
   "metadata": {
    "application/vnd.databricks.v1+cell": {
     "cellMetadata": {
      "byteLimit": 2048000,
      "rowLimit": 10000
     },
     "inputWidgets": {},
     "nuid": "848d9a36-340e-4f11-8c84-1d8aeaeb9d8f",
     "showTitle": false,
     "tableResultSettingsMap": {},
     "title": ""
    }
   },
   "outputs": [],
   "source": [
    "api_key = dbutils.widgets.get(\"api_key\")"
   ]
  },
  {
   "cell_type": "code",
   "execution_count": 0,
   "metadata": {
    "application/vnd.databricks.v1+cell": {
     "cellMetadata": {
      "byteLimit": 2048000,
      "rowLimit": 10000
     },
     "inputWidgets": {},
     "nuid": "415ece32-8a8d-4220-a9cb-19babeb4a298",
     "showTitle": false,
     "tableResultSettingsMap": {},
     "title": ""
    }
   },
   "outputs": [
    {
     "output_type": "stream",
     "name": "stdout",
     "output_type": "stream",
     "text": [
      "Wrote 160 bytes.\n✅ Saved data to /mnt/raw_data/2025-02-20_1742429783.json\nWrote 160 bytes.\n✅ Saved data to /mnt/raw_data/2025-02-21_1742429783.json\nWrote 160 bytes.\n✅ Saved data to /mnt/raw_data/2025-02-22_1742429784.json\nWrote 162 bytes.\n✅ Saved data to /mnt/raw_data/2025-02-23_1742429784.json\nWrote 161 bytes.\n✅ Saved data to /mnt/raw_data/2025-02-24_1742429784.json\nWrote 162 bytes.\n✅ Saved data to /mnt/raw_data/2025-02-25_1742429785.json\nWrote 162 bytes.\n✅ Saved data to /mnt/raw_data/2025-02-26_1742429785.json\n"
     ]
    }
   ],
   "source": [
    "import requests\n",
    "import datetime\n",
    "import json\n",
    "\n",
    "class Ingest:\n",
    "    def __init__(self, api_key, base_currency=\"AUD\", target_currencies=[\"USD\", \"JPY\", \"CNY\"]):\n",
    "        self.api_key = api_key\n",
    "        self.base_currency = base_currency\n",
    "        self.target_currencies = target_currencies\n",
    "        self.base_data_dir = \"/mnt/raw_data\"\n",
    "\n",
    "    def fetch_api_data(self, date_str):\n",
    "        url = f\"https://data.fixer.io/api/{date_str}\"\n",
    "        params = {\n",
    "            \"access_key\": self.api_key,\n",
    "            \"base\": self.base_currency,\n",
    "            \"symbols\": ','.join(self.target_currencies)\n",
    "        }\n",
    "        response = requests.get(url, params=params)\n",
    "        data = response.json()\n",
    "\n",
    "        if not data.get(\"success\", False):\n",
    "            print(f\"❌ Error fetching data for {date_str}: {data.get('error')}\")\n",
    "            return None\n",
    "        return data\n",
    "\n",
    "    def ingest_batch(self, start_date, end_date):\n",
    "        current_date = datetime.datetime.strptime(start_date, \"%Y-%m-%d\")\n",
    "        end_date = datetime.datetime.strptime(end_date, \"%Y-%m-%d\")\n",
    "\n",
    "        while current_date <= end_date:\n",
    "            date_str = current_date.strftime(\"%Y-%m-%d\")\n",
    "            data = self.fetch_api_data(date_str)\n",
    "            if data:\n",
    "                file_path = f\"/mnt/raw_data/{date_str}_{int(datetime.datetime.now().timestamp())}.json\"\n",
    "                dbutils.fs.put(f\"dbfs:{file_path}\", json.dumps(data), overwrite=True)\n",
    "                print(f\"✅ Saved data to {file_path}\")\n",
    "\n",
    "            current_date += datetime.timedelta(days=1)\n",
    "\n",
    "\n",
    "dbutils.widgets.get(\"api_key\")\n",
    "\n",
    "ingest = Ingest(api_key)\n",
    "ingest.ingest_batch(start_date=\"2025-02-20\", end_date=\"2025-02-26\")\n"
   ]
  }
 ],
 "metadata": {
  "application/vnd.databricks.v1+notebook": {
   "computePreferences": null,
   "dashboards": [],
   "environmentMetadata": {
    "base_environment": "",
    "environment_version": "1"
   },
   "inputWidgetPreferences": null,
   "language": "python",
   "notebookMetadata": {
    "pythonIndentUnit": 4
   },
   "notebookName": "3_streaming_injestion",
   "widgets": {
    "api_key": {
     "currentValue": "7272257b93da5463bfbf54d6bdc1d7cc",
     "nuid": "067bef7f-eff5-4928-b90b-76c22b82f79f",
     "typedWidgetInfo": {
      "autoCreated": false,
      "defaultValue": "",
      "label": null,
      "name": "api_key",
      "options": {
       "widgetDisplayType": "Text",
       "validationRegex": null
      },
      "parameterDataType": "String"
     },
     "widgetInfo": {
      "widgetType": "text",
      "defaultValue": "",
      "label": null,
      "name": "api_key",
      "options": {
       "widgetType": "text",
       "autoCreated": false,
       "validationRegex": null
      }
     }
    }
   }
  }
 },
 "nbformat": 4,
 "nbformat_minor": 0
}
