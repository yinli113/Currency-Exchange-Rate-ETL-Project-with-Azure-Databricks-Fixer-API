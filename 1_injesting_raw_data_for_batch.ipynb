{
 "cells": [
  {
   "cell_type": "code",
   "execution_count": 0,
   "metadata": {
    "application/vnd.databricks.v1+cell": {
     "cellMetadata": {
      "byteLimit": 2048000,
      "rowLimit": 10000
     },
     "inputWidgets": {},
     "nuid": "e4a34241-cd31-4439-b6f3-777fb7b602a5",
     "showTitle": false,
     "tableResultSettingsMap": {},
     "title": ""
    }
   },
   "outputs": [],
   "source": [
    "\n",
    "dbutils.widgets.text(\"api_key\", \"\")\n",
    "\n",
    "\n"
   ]
  },
  {
   "cell_type": "code",
   "execution_count": 0,
   "metadata": {
    "application/vnd.databricks.v1+cell": {
     "cellMetadata": {
      "byteLimit": 2048000,
      "rowLimit": 10000
     },
     "inputWidgets": {},
     "nuid": "99eb2501-4ef7-496c-8205-b2e856ea02be",
     "showTitle": false,
     "tableResultSettingsMap": {},
     "title": ""
    }
   },
   "outputs": [
    {
     "output_type": "stream",
     "name": "stdout",
     "output_type": "stream",
     "text": [
      "\tFetching raw data from API...Wrote 159 bytes.\nRaw data saved to /mnt/raw_data/2025-02-18.json\nDone\n"
     ]
    }
   ],
   "source": [
    "from pyspark.sql import SparkSession\n",
    "import requests\n",
    "import json\n",
    "import datetime\n",
    "\n",
    "class Ingest:\n",
    "    def __init__(self):\n",
    "        dbutils.fs.mkdirs(\"dbfs:/mnt/raw_data/\")  # Ensure directory exists\n",
    "\n",
    "        self.base_data_dir = \"/mnt/raw_data\"  # Databricks FS path without /dbfs prefix\n",
    "        self.API_KEY = dbutils.widgets.get(\"api_key\")\n",
    "  \n",
    "        self.BASE_URL = f\"http://data.fixer.io/api/latest?access_key={self.API_KEY}&symbols=USD,AUD,JPY,CNY\"\n",
    "\n",
    "    def fetch_api_data(self):\n",
    "        \"\"\"Fetches raw data from the API and returns JSON.\"\"\"\n",
    "        response = requests.get(self.BASE_URL)\n",
    "        if response.status_code == 200:\n",
    "            return response.json()\n",
    "        else:\n",
    "            print(f\"Error fetching data: {response.status_code}\")\n",
    "            return None\n",
    "\n",
    "    def save_raw_data(self, data):\n",
    "        \"\"\"Saves raw JSON data as a file with the timestamp as the filename.\"\"\"\n",
    "        if not data:\n",
    "            print(\"No data to save.\")\n",
    "            return\n",
    "        \n",
    "        # Extract timestamp and format it as YYYY-MM-DD\n",
    "        timestamp = data.get(\"timestamp\", None)\n",
    "        if not timestamp:\n",
    "            print(\"Missing timestamp in API response.\")\n",
    "            return\n",
    "        \n",
    "        date_str = datetime.datetime.utcfromtimestamp(timestamp).strftime('%Y-%m-%d')\n",
    "        file_path = f\"{self.base_data_dir}/{date_str}.json\"  \n",
    "\n",
    "        # Save JSON data using Databricks utilities\n",
    "        dbutils.fs.put(f\"dbfs:{file_path}\", json.dumps(data), overwrite=True)\n",
    "\n",
    "        print(f\"Raw data saved to {file_path}\")\n",
    "\n",
    "    def raw_ingest(self):\n",
    "        \"\"\"Fetches data from API and stores the raw response in DBFS.\"\"\"\n",
    "        print(\"\\tFetching raw data from API...\", end='')\n",
    "        data = self.fetch_api_data()\n",
    "        if data:\n",
    "            self.save_raw_data(data)\n",
    "        print(\"Done\")\n",
    "\n",
    "# Initialize Spark\n",
    "spark = SparkSession.builder.appName(\"FixerDataIngestion\").getOrCreate()\n",
    "\n",
    "# Run ingestion\n",
    "ingest_instance = Ingest()\n",
    "ingest_instance.raw_ingest()\n"
   ]
  },
  {
   "cell_type": "code",
   "execution_count": 0,
   "metadata": {
    "application/vnd.databricks.v1+cell": {
     "cellMetadata": {
      "byteLimit": 2048000,
      "rowLimit": 10000
     },
     "inputWidgets": {},
     "nuid": "008ec6cb-b3e9-4476-8739-9a565c79ac13",
     "showTitle": false,
     "tableResultSettingsMap": {},
     "title": ""
    }
   },
   "outputs": [
    {
     "output_type": "display_data",
     "data": {
      "text/html": [
       "<style scoped>\n",
       "  .table-result-container {\n",
       "    max-height: 300px;\n",
       "    overflow: auto;\n",
       "  }\n",
       "  table, th, td {\n",
       "    border: 1px solid black;\n",
       "    border-collapse: collapse;\n",
       "  }\n",
       "  th, td {\n",
       "    padding: 5px;\n",
       "  }\n",
       "  th {\n",
       "    text-align: left;\n",
       "  }\n",
       "</style><div class='table-result-container'><table class='table-result'><thead style='background-color: white'><tr><th>path</th><th>name</th><th>size</th><th>modificationTime</th></tr></thead><tbody><tr><td>dbfs:/mnt/raw_data/2025-02-18.json</td><td>2025-02-18.json</td><td>159</td><td>1739849402000</td></tr></tbody></table></div>"
      ]
     },
     "metadata": {
      "application/vnd.databricks.v1+output": {
       "addedWidgets": {},
       "aggData": [],
       "aggError": "",
       "aggOverflow": false,
       "aggSchema": [],
       "aggSeriesLimitReached": false,
       "aggType": "",
       "arguments": {},
       "columnCustomDisplayInfos": {},
       "data": [
        [
         "dbfs:/mnt/raw_data/2025-02-18.json",
         "2025-02-18.json",
         159,
         1739849402000
        ]
       ],
       "datasetInfos": [],
       "dbfsResultPath": null,
       "isJsonSchema": true,
       "metadata": {
        "isDbfsCommandResult": false
       },
       "overflow": false,
       "plotOptions": {
        "customPlotOptions": {},
        "displayType": "table",
        "pivotAggregation": null,
        "pivotColumns": null,
        "xColumns": null,
        "yColumns": null
       },
       "removedWidgets": [],
       "schema": [
        {
         "metadata": "{}",
         "name": "path",
         "type": "\"string\""
        },
        {
         "metadata": "{}",
         "name": "name",
         "type": "\"string\""
        },
        {
         "metadata": "{}",
         "name": "size",
         "type": "\"long\""
        },
        {
         "metadata": "{}",
         "name": "modificationTime",
         "type": "\"long\""
        }
       ],
       "type": "table"
      }
     },
     "output_type": "display_data"
    }
   ],
   "source": [
    "%fs ls /mnt/raw_data/\n"
   ]
  },
  {
   "cell_type": "code",
   "execution_count": 0,
   "metadata": {
    "application/vnd.databricks.v1+cell": {
     "cellMetadata": {
      "byteLimit": 2048000,
      "rowLimit": 10000
     },
     "inputWidgets": {},
     "nuid": "e0478f42-94cc-4957-ad2b-ddda92df911d",
     "showTitle": false,
     "tableResultSettingsMap": {},
     "title": ""
    }
   },
   "outputs": [
    {
     "output_type": "stream",
     "name": "stdout",
     "output_type": "stream",
     "text": [
      "\tStarting search...\n✅ File '2025-02-18.json' has been ingested.\n\nDone.\n\nTest completed.\n\n"
     ]
    }
   ],
   "source": [
    "class TestRawInjection:\n",
    "    def __init__(self):\n",
    "        self.base_data_dir = \"/mnt/raw_data\"\n",
    "\n",
    "    def file_exist(self, filename):\n",
    "        print(\"\\tStarting search...\", end='')\n",
    "        try:\n",
    "            # Get a list of files in the directory\n",
    "            files = [file.name for file in dbutils.fs.ls(self.base_data_dir)]\n",
    "            \n",
    "            if filename in files:\n",
    "                print(f\"\\n✅ File '{filename}' has been ingested.\")\n",
    "            else:\n",
    "                print(f\"\\n❌ File '{filename}' not found.\")\n",
    "\n",
    "        except Exception as e:\n",
    "            print(f\"\\n❌ Error while checking file: {e}\")\n",
    "\n",
    "        print(\"\\nDone.\")\n",
    "\n",
    "    def runTests(self):\n",
    "        self.file_exist(\"2025-02-18.json\")\n",
    "        print(\"\\nTest completed.\\n\")\n",
    "\n",
    "# Run the test\n",
    "test_instance = TestRawInjection()\n",
    "test_instance.runTests()\n"
   ]
  }
 ],
 "metadata": {
  "application/vnd.databricks.v1+notebook": {
   "computePreferences": null,
   "dashboards": [],
   "environmentMetadata": {
    "base_environment": "",
    "environment_version": "1"
   },
   "inputWidgetPreferences": null,
   "language": "python",
   "notebookMetadata": {
    "mostRecentlyExecutedCommandWithImplicitDF": {
     "commandId": 2982265043514571,
     "dataframes": [
      "_sqldf"
     ]
    },
    "pythonIndentUnit": 4
   },
   "notebookName": "1_injesting_raw_data_for_batch",
   "widgets": {
    "api_key": {
     "currentValue": "e42c3c5f2d7bbe3d702f5a03a30ba096",
     "nuid": "17d0543d-287a-4d0f-be64-52640c91cbb5",
     "typedWidgetInfo": {
      "autoCreated": false,
      "defaultValue": "",
      "label": null,
      "name": "api_key",
      "options": {
       "widgetDisplayType": "Text",
       "validationRegex": null
      },
      "parameterDataType": "String"
     },
     "widgetInfo": {
      "widgetType": "text",
      "defaultValue": "",
      "label": null,
      "name": "api_key",
      "options": {
       "widgetType": "text",
       "autoCreated": null,
       "validationRegex": null
      }
     }
    }
   }
  }
 },
 "nbformat": 4,
 "nbformat_minor": 0
}
